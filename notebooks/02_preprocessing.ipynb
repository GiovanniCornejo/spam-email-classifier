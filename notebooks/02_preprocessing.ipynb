{
 "cells": [
  {
   "cell_type": "markdown",
   "metadata": {},
   "source": [
    "# Data Preprocessing\n",
    "\n",
    "This notebook handles tasks such as further cleaning of the text, handling class imbalance, and feature extraction.\n",
    "\n",
    "## Table of Contents\n",
    "1. [Introduction](#data-preprocessing)\n",
    "2. [Loading the Data](#loading-the-data)"
   ]
  },
  {
   "cell_type": "markdown",
   "metadata": {},
   "source": [
    "## Loading the Data\n",
    "\n",
    "### 1. Import Libraries"
   ]
  },
  {
   "cell_type": "code",
   "execution_count": 1,
   "metadata": {},
   "outputs": [],
   "source": [
    "import pandas as pd\n",
    "import numpy as np\n",
    "\n",
    "from sklearn.model_selection import train_test_split\n",
    "from sklearn.feature_extraction.text import TfidfTransformer\n",
    "\n",
    "from imblearn.over_sampling import SMOTE, RandomOverSampler\n",
    "from imblearn.under_sampling import RandomUnderSampler\n",
    "\n",
    "import nltk\n",
    "from nltk.corpus import stopwords\n",
    "# nltk.download(\"stopwords\") # Uncomment this to download stopwords\n",
    "\n",
    "import re\n",
    "import string"
   ]
  },
  {
   "cell_type": "markdown",
   "metadata": {},
   "source": [
    "### 2. Load Cleaned Data from EDA Stage"
   ]
  },
  {
   "cell_type": "code",
   "execution_count": 2,
   "metadata": {},
   "outputs": [],
   "source": [
    "df = pd.read_csv('data/processed/eda_cleaned_spam.csv')"
   ]
  },
  {
   "cell_type": "markdown",
   "metadata": {},
   "source": [
    "## Text Cleaning and Normalization\n",
    "\n",
    "Perform additional text cleaning such as removing punctuation, converting to lowercase, and removing stopwords."
   ]
  },
  {
   "cell_type": "code",
   "execution_count": 3,
   "metadata": {},
   "outputs": [],
   "source": [
    "def clean_text(text: str) -> str:\n",
    "    text = text.lower()  # Lowercase\n",
    "    text = re.sub(f\"[{string.punctuation}]\", \"\", text)  # Remove punctuation\n",
    "    text = re.sub(r'\\d+', '', text)  # Remove numbers\n",
    "    words = text.split()  # Split into words\n",
    "    words = [word for word in words if word not in stopwords.words('english')]  # Remove stopwords\n",
    "    return \" \".join(words)\n",
    "\n",
    "# Apply the cleaning function\n",
    "df['cleaned_message'] = df['message'].apply(clean_text)\n",
    "\n",
    "# # Convert Series to NumPy array and reshape\n",
    "X = df['cleaned_message'].to_numpy().reshape(-1, 1)\n",
    "y = df['label'].values"
   ]
  },
  {
   "cell_type": "markdown",
   "metadata": {},
   "source": [
    "## Handling Class Imbalance\n",
    "\n",
    "### Resampling Techniques\n",
    "\n",
    "#### 1. Oversampling the Minority Class\n",
    "Increase the number of spam messages by randomly duplicating some of them."
   ]
  },
  {
   "cell_type": "code",
   "execution_count": 26,
   "metadata": {},
   "outputs": [],
   "source": [
    "ros = RandomOverSampler(random_state=42) # Remove/change random_state for different results\n",
    "resampled_ros: tuple[np.ndarray, np.ndarray] = ros.fit_resample(X, y)  # type: ignore (bug in library)\n",
    "X_ros = resampled_ros[0]\n",
    "y_ros = resampled_ros[1]\n",
    "\n",
    "df_ros = pd.DataFrame({'message': X_ros.flatten(), 'label': y_ros})"
   ]
  },
  {
   "cell_type": "markdown",
   "metadata": {},
   "source": [
    "#### 2. Undersampling the Majority Class\n",
    "Decrease the number of ham messages by randomly removing some of them."
   ]
  },
  {
   "cell_type": "code",
   "execution_count": 27,
   "metadata": {},
   "outputs": [],
   "source": [
    "rus = RandomUnderSampler(random_state=42) # Remove/change random_state for different results\n",
    "resampled_rus: tuple[np.ndarray, np.ndarray] = rus.fit_resample(X, y) # type: ignore (bug in library)\n",
    "X_rus = resampled_rus[0]\n",
    "y_rus = resampled_rus[1]\n",
    "\n",
    "df_rus = pd.DataFrame({'message': X_rus.flatten(), 'label': y_rus})"
   ]
  },
  {
   "cell_type": "markdown",
   "metadata": {},
   "source": [
    "### Synthetic Data Generation\n",
    "\n",
    "#### SMOTE (Synthetic Minority Over-sampling Technique)\n",
    "Generate synthetic examples for the minority class.\n",
    "\n",
    "3. **Algorithmic Approaches**:\n",
    "    - **Use Algorithms That Handle Imbalance Well**: Certain algorithms like Random Forests and Gradient Boosting can handle imbalance better.\n",
    "    - **Cost-sensitive Learning**: Assign a higher penalty to misclassifying the minority class.\n",
    "\n",
    "4. **Evaluation Metrics**:\n",
    "    - **Use Appropriate Metrics**: Accuracy might not be the best metric. Use precision, recall, F1-score, and ROC-AUC to better evaluate the model's performance on imbalanced data."
   ]
  }
 ],
 "metadata": {
  "kernelspec": {
   "display_name": "Python 3 (ipykernel)",
   "language": "python",
   "name": "python3"
  },
  "language_info": {
   "codemirror_mode": {
    "name": "ipython",
    "version": 3
   },
   "file_extension": ".py",
   "mimetype": "text/x-python",
   "name": "python",
   "nbconvert_exporter": "python",
   "pygments_lexer": "ipython3",
   "version": "3.11.8"
  }
 },
 "nbformat": 4,
 "nbformat_minor": 2
}
