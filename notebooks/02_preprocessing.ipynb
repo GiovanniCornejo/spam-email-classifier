{
 "cells": [
  {
   "cell_type": "markdown",
   "metadata": {},
   "source": [
    "# Data Preprocessing\n",
    "\n",
    "This notebook handles tasks such as further cleaning of the text, handling class imbalance, and feature extraction.\n",
    "\n",
    "## Table of Contents\n",
    "1. [Introduction](#data-preprocessing)\n",
    "2. [Loading the Data](#loading-the-data)\n",
    "3. [Handling Class Imbalance with Resampling](#handling-class-imbalance-with-resampling)\n",
    "4. [Feature Extraction](#feature-extraction)"
   ]
  },
  {
   "cell_type": "markdown",
   "metadata": {},
   "source": [
    "## Loading the Data\n",
    "\n",
    "### 1. Import Libraries"
   ]
  },
  {
   "cell_type": "code",
   "execution_count": 1,
   "metadata": {},
   "outputs": [],
   "source": [
    "import pandas as pd\n",
    "import numpy as np\n",
    "\n",
    "from sklearn.model_selection import train_test_split\n",
    "from sklearn.feature_extraction.text import TfidfVectorizer\n",
    "\n",
    "from imblearn.over_sampling import RandomOverSampler\n",
    "from imblearn.under_sampling import RandomUnderSampler\n",
    "\n",
    "import nltk\n",
    "from nltk.corpus import stopwords\n",
    "# nltk.download(\"stopwords\") # Uncomment this to download stopwords\n",
    "\n",
    "import re\n",
    "import string"
   ]
  },
  {
   "cell_type": "markdown",
   "metadata": {},
   "source": [
    "### 2. Load Cleaned Data from EDA Stage"
   ]
  },
  {
   "cell_type": "code",
   "execution_count": null,
   "metadata": {},
   "outputs": [],
   "source": [
    "df = pd.read_csv('data/processed/eda_cleaned_spam.csv')"
   ]
  },
  {
   "cell_type": "markdown",
   "metadata": {},
   "source": [
    "## Text Cleaning and Normalization\n",
    "\n",
    "Perform additional text cleaning such as removing punctuation, converting to lowercase, and removing stopwords."
   ]
  },
  {
   "cell_type": "code",
   "execution_count": null,
   "metadata": {},
   "outputs": [],
   "source": [
    "def clean_text(text: str) -> str:\n",
    "    text = text.lower()  # Lowercase\n",
    "    text = re.sub(f\"[{string.punctuation}]\", \"\", text)  # Remove punctuation\n",
    "    text = re.sub(r'\\d+', '', text)  # Remove numbers\n",
    "    words = text.split()  # Split into words\n",
    "    words = [word for word in words if word not in stopwords.words('english')]  # Remove stopwords\n",
    "    return \" \".join(words)\n",
    "\n",
    "# Apply the cleaning function\n",
    "df['message'] = df['message'].apply(clean_text)"
   ]
  },
  {
   "cell_type": "markdown",
   "metadata": {},
   "source": [
    "## Handling Class Imbalance with Resampling"
   ]
  },
  {
   "cell_type": "code",
   "execution_count": null,
   "metadata": {},
   "outputs": [],
   "source": [
    "# Seed for sampling techniques\n",
    "rs = 42\n",
    "\n",
    "# # Convert Series to NumPy array and reshape\n",
    "X = df['message'].to_numpy().reshape(-1, 1)\n",
    "y = df['label'].values"
   ]
  },
  {
   "cell_type": "markdown",
   "metadata": {},
   "source": [
    "### 1. Oversampling the Minority Class\n",
    "\n",
    "Increase the number of spam messages by randomly duplicating some of them."
   ]
  },
  {
   "cell_type": "code",
   "execution_count": null,
   "metadata": {},
   "outputs": [],
   "source": [
    "ros = RandomOverSampler(random_state=rs) # Remove/change random_state for different results\n",
    "resampled_ros: tuple[np.ndarray, np.ndarray] = ros.fit_resample(X, y)  # type: ignore (bug in type hint)\n",
    "X_ros = resampled_ros[0]\n",
    "y_ros = resampled_ros[1]\n",
    "\n",
    "df_ros = pd.DataFrame({'label': y_ros, 'message': X_ros.flatten()})"
   ]
  },
  {
   "cell_type": "markdown",
   "metadata": {},
   "source": [
    "### 2. Undersampling the Majority Class\n",
    "\n",
    "Decrease the number of ham messages by randomly removing some of them."
   ]
  },
  {
   "cell_type": "code",
   "execution_count": null,
   "metadata": {},
   "outputs": [],
   "source": [
    "rus = RandomUnderSampler(random_state=rs) # Remove/change random_state for different results\n",
    "resampled_rus: tuple[np.ndarray, np.ndarray] = rus.fit_resample(X, y) # type: ignore (bug in type hint)\n",
    "X_rus = resampled_rus[0]\n",
    "y_rus = resampled_rus[1]\n",
    "\n",
    "df_rus = pd.DataFrame({'label': y_rus, 'message': X_rus.flatten()})"
   ]
  },
  {
   "cell_type": "markdown",
   "metadata": {},
   "source": [
    "## Feature Extraction\n",
    "\n",
    "Convert text data into numerical features using Term Frequency-Inverse Document Frequency (TF-IDF)."
   ]
  },
  {
   "cell_type": "code",
   "execution_count": null,
   "metadata": {},
   "outputs": [],
   "source": [
    "# TF-IDF Vectorization\n",
    "vectorizer = TfidfVectorizer(max_features=5000)\n",
    "\n",
    "# Apply TF-IDF to the original, oversampled, and undersampled data\n",
    "X_tfidf = vectorizer.fit_transform(df['message'])\n",
    "X_tfidf_ros = vectorizer.fit_transform(df_ros['message'])\n",
    "X_tfidf_rus = vectorizer.fit_transform(df_rus['message'])"
   ]
  },
  {
   "cell_type": "markdown",
   "metadata": {},
   "source": [
    "## Exporting the Data\n",
    "\n",
    "After preprocessing the data, we export it to the `processed` folder for use in the modeling step next."
   ]
  },
  {
   "cell_type": "code",
   "execution_count": null,
   "metadata": {},
   "outputs": [],
   "source": [
    "import os\n",
    "\n",
    "# Define the directory paths\n",
    "processed_data_dir = 'data/processed'\n",
    "original_dir = os.path.join(processed_data_dir, 'original')\n",
    "ros_dir = os.path.join(processed_data_dir, 'ros')\n",
    "rus_dir = os.path.join(processed_data_dir, 'rus')\n",
    "\n",
    "# Create directories if they don't exist\n",
    "os.makedirs(original_dir, exist_ok=True)\n",
    "os.makedirs(ros_dir, exist_ok=True)\n",
    "os.makedirs(rus_dir, exist_ok=True)\n",
    "\n",
    "# Save original data and TF-IDF features\n",
    "df.to_csv(os.path.join(original_dir, 'original_data.csv'), index=False)\n",
    "np.save(os.path.join(original_dir, 'original_tfidf_features.npy'), X_tfidf.toarray()) # type: ignore (bug in method detection)\n",
    "\n",
    "# Save preprocessed data and TF-IDF features after oversampling\n",
    "df_ros.to_csv(os.path.join(ros_dir, 'ros_data.csv'), index=False)\n",
    "np.save(os.path.join(ros_dir, 'ros_tfidf_features.npy'), X_tfidf_ros.toarray()) # type: ignore (bug in method detection)\n",
    "\n",
    "# Save preprocessed data and TF-IDF features after undersampling\n",
    "df_rus.to_csv(os.path.join(rus_dir, 'rus_data.csv'), index=False)\n",
    "np.save(os.path.join(rus_dir, 'rus_tfidf_features.npy'), X_tfidf_rus.toarray()) # type: ignore (bug in method detection)\n"
   ]
  }
 ],
 "metadata": {
  "kernelspec": {
   "display_name": "Python 3 (ipykernel)",
   "language": "python",
   "name": "python3"
  },
  "language_info": {
   "codemirror_mode": {
    "name": "ipython",
    "version": 3
   },
   "file_extension": ".py",
   "mimetype": "text/x-python",
   "name": "python",
   "nbconvert_exporter": "python",
   "pygments_lexer": "ipython3",
   "version": "3.11.8"
  }
 },
 "nbformat": 4,
 "nbformat_minor": 2
}
